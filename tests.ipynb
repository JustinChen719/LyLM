{
 "cells": [
  {
   "cell_type": "code",
   "id": "initial_id",
   "metadata": {
    "collapsed": true
   },
   "source": [
    "from openai import OpenAI\n",
    "\n",
    "client = OpenAI(api_key=\"none\", base_url=\"http://127.0.0.1:18000/v1\")\n",
    "\n",
    "for chunk in client.chat.completions.create(\n",
    "        model=\"Qwen/Qwen2.5-7B-Instruct\",\n",
    "        messages=[\n",
    "            {\"role\": \"user\", \"content\": \"你好，你是谁？\"}\n",
    "        ],\n",
    "        stream=True\n",
    "):\n",
    "    print(chunk.choices[0].delta.content)\n",
    "\n",
    "# if hasattr(chunk.choices[0].delta, \"content\"):\n",
    "#     print(chunk.choices[0].delta.content, end=\"\", flush=True)"
   ],
   "outputs": [],
   "execution_count": null
  },
  {
   "metadata": {},
   "cell_type": "code",
   "source": "client.models.list()",
   "id": "2820251e48998fb1",
   "outputs": [],
   "execution_count": null
  }
 ],
 "metadata": {
  "kernelspec": {
   "display_name": "Python 3",
   "language": "python",
   "name": "python3"
  },
  "language_info": {
   "codemirror_mode": {
    "name": "ipython",
    "version": 2
   },
   "file_extension": ".py",
   "mimetype": "text/x-python",
   "name": "python",
   "nbconvert_exporter": "python",
   "pygments_lexer": "ipython2",
   "version": "2.7.6"
  }
 },
 "nbformat": 4,
 "nbformat_minor": 5
}
