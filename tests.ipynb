{
 "cells": [
  {
   "cell_type": "code",
   "id": "initial_id",
   "metadata": {
    "collapsed": true,
    "ExecuteTime": {
     "end_time": "2025-04-10T14:31:40.035365Z",
     "start_time": "2025-04-10T14:31:39.706579Z"
    }
   },
   "source": [
    "from openai import OpenAI\n",
    "\n",
    "client = OpenAI(api_key=\"none\", base_url=\"http://127.0.0.1:18000/v1\")\n",
    "\n",
    "for chunk in client.chat.completions.create(\n",
    "        model=\"Qwen/Qwen2.5-3B-Instruct\",\n",
    "        messages=[\n",
    "            {\"role\": \"user\", \"content\": \"你好\"}\n",
    "        ],\n",
    "        n=1,\n",
    "        stream=True\n",
    "\n",
    "):\n",
    "    # print(chunk.choices)\n",
    "    print(chunk.choices[0].delta.content, end=\"\", flush=True)"
   ],
   "outputs": [
    {
     "name": "stdout",
     "output_type": "stream",
     "text": [
      "你好！有什么可以帮助你的吗？"
     ]
    }
   ],
   "execution_count": 106
  },
  {
   "metadata": {
    "ExecuteTime": {
     "end_time": "2025-04-10T13:39:57.718346Z",
     "start_time": "2025-04-10T13:39:57.633592Z"
    }
   },
   "cell_type": "code",
   "source": [
    "response = client.chat.completions.create(\n",
    "        model=\"Qwen/Qwen2.5-1.5B-Instruct\",\n",
    "        messages=[\n",
    "            {\"role\": \"user\", \"content\": \"你好，你是谁？\"}\n",
    "        ],\n",
    "        n=1,\n",
    "        stream=False\n",
    ")\n",
    "print(response.choices)"
   ],
   "id": "7a8700c755de9532",
   "outputs": [
    {
     "name": "stdout",
     "output_type": "stream",
     "text": [
      "[]\n"
     ]
    }
   ],
   "execution_count": 71
  },
  {
   "metadata": {
    "ExecuteTime": {
     "end_time": "2025-04-10T14:31:44.200426Z",
     "start_time": "2025-04-10T14:31:44.187655Z"
    }
   },
   "cell_type": "code",
   "source": "client.models.list()\n",
   "id": "2820251e48998fb1",
   "outputs": [
    {
     "data": {
      "text/plain": [
       "SyncPage[Model](data=[Model(id='Qwen/Qwen2.5-7B-Instruct', created=None, object='model', owned_by='owner', permission=[]), Model(id='Qwen/Qwen2.5-1.5B-Instruct', created=None, object='model', owned_by='owner', permission=[]), Model(id='Qwen/Qwen2.5-3B-Instruct', created=None, object='model', owned_by='owner', permission=[])], object='list')"
      ]
     },
     "execution_count": 107,
     "metadata": {},
     "output_type": "execute_result"
    }
   ],
   "execution_count": 107
  }
 ],
 "metadata": {
  "kernelspec": {
   "display_name": "Python 3",
   "language": "python",
   "name": "python3"
  },
  "language_info": {
   "codemirror_mode": {
    "name": "ipython",
    "version": 2
   },
   "file_extension": ".py",
   "mimetype": "text/x-python",
   "name": "python",
   "nbconvert_exporter": "python",
   "pygments_lexer": "ipython2",
   "version": "2.7.6"
  }
 },
 "nbformat": 4,
 "nbformat_minor": 5
}
